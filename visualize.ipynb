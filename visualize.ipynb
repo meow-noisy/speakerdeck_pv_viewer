{
 "metadata": {
  "language_info": {
   "codemirror_mode": {
    "name": "ipython",
    "version": 3
   },
   "file_extension": ".py",
   "mimetype": "text/x-python",
   "name": "python",
   "nbconvert_exporter": "python",
   "pygments_lexer": "ipython3",
   "version": "3.7.3"
  },
  "orig_nbformat": 4,
  "kernelspec": {
   "name": "python3",
   "display_name": "Python 3.7.3 64-bit ('anaconda3-5.3.0': pyenv)"
  },
  "interpreter": {
   "hash": "6bc3d0824e6e8e71cb34a340302803fe48f4d600776d0bb94eec720321902b13"
  }
 },
 "nbformat": 4,
 "nbformat_minor": 2,
 "cells": [
  {
   "cell_type": "markdown",
   "source": [
    "# Visualize with Plotly"
   ],
   "metadata": {}
  },
  {
   "cell_type": "code",
   "execution_count": null,
   "source": [
    "import csv\n",
    "\n",
    "import sqlite3\n",
    "import pandas as pd\n",
    "from datetime import datetime\n",
    "import plotly.graph_objects as go\n",
    "import plotly.offline as offline\n",
    "\n",
    "\n",
    "\n",
    "filepath = \"db.sqlite3\"\n",
    "conn = sqlite3.connect(filepath)\n",
    "cur = conn.cursor()"
   ],
   "outputs": [],
   "metadata": {}
  },
  {
   "cell_type": "code",
   "execution_count": null,
   "source": [
    "# list up slides \n",
    "cur.execute(f\"\"\"\n",
    "    SELECT slide_id, slide_title \n",
    "    FROM slide;\n",
    "\"\"\")"
   ],
   "outputs": [],
   "metadata": {}
  },
  {
   "cell_type": "code",
   "execution_count": null,
   "source": [
    "\n",
    "slide_id_to_title = {}\n",
    "for slide_id, slide_title in cur.fetchall():\n",
    "    # print(slide_id, slide_title)\n",
    "    slide_id_to_title[slide_id] = slide_title\n",
    "\n",
    "# 中身が入っていることを確認\n",
    "assert slide_id_to_title != {}"
   ],
   "outputs": [],
   "metadata": {}
  },
  {
   "cell_type": "code",
   "execution_count": null,
   "source": [
    "date_list = []\n",
    "pv_list = []\n",
    "for pv, date in cur.fetchall():\n",
    "    date_list.append(datetime.strptime(date, \"%Y-%m-%d\"))\n",
    "    pv_list.append(pv)\n"
   ],
   "outputs": [],
   "metadata": {}
  },
  {
   "cell_type": "code",
   "execution_count": null,
   "source": [
    "slide_id_list = [id_ for id_ in slide_id_to_title.keys()]\n",
    "lines = []\n",
    "for slide_id in slide_id_list:\n",
    "    cur.execute(f\"\"\"\n",
    "        select pv, date from slide_pv_date WHERE slide_id=\"{slide_id}\" ORDER BY date;\n",
    "    \"\"\")\n",
    "\n",
    "    records = [[pv, date] for pv, date in cur.fetchall()]\n",
    "    df = pd.DataFrame(records, columns =[\"pv\", \"date\"])\n",
    "\n",
    "    lines.append(\n",
    "        go.Scatter(x=df['date'], y=df['pv'], mode = 'lines', name = slide_id_to_title[slide_id])\n",
    "        )\n",
    "\n",
    "fig = go.Figure(lines)\n",
    "\n",
    "offline.iplot(fig)\n",
    "\n",
    "# trace1 = go.Scatter(x = date_list, y = pv_list, mode = 'lines', name = 'X')\n"
   ],
   "outputs": [],
   "metadata": {}
  },
  {
   "cell_type": "code",
   "execution_count": null,
   "source": [
    "# コネクションをクローズする\n",
    "conn.close()"
   ],
   "outputs": [],
   "metadata": {}
  },
  {
   "cell_type": "code",
   "execution_count": null,
   "source": [],
   "outputs": [],
   "metadata": {}
  }
 ]
}